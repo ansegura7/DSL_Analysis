{
 "cells": [
  {
   "cell_type": "markdown",
   "metadata": {},
   "source": [
    "# DSL Text Analysis\n",
    "- **Created by: Andrés Segura Tinoco**\n",
    "- **Created on: Aug 20, 2020**\n",
    "- **Data: Dictionary of the Spanish language**"
   ]
  },
  {
   "cell_type": "markdown",
   "metadata": {},
   "source": [
    "### Descriptive Analysis\n",
    "1. Approximate number of words in the DSL\n",
    "2. Number of words with acute accent in Spanish language\n",
    "3. Frequency of words per size\n",
    "4. Top 15 bigger words\n",
    "5. Frequency of letters in DSL words\n",
    "6. Vowel and consonant ratio\n",
    "7. Frequency of words per letter of the alphabet"
   ]
  },
  {
   "cell_type": "code",
   "execution_count": 1,
   "metadata": {},
   "outputs": [],
   "source": [
    "# Load Python libraries\n",
    "import re\n",
    "import io\n",
    "import codecs\n",
    "import pandas as pd\n",
    "from collections import Counter"
   ]
  },
  {
   "cell_type": "code",
   "execution_count": 2,
   "metadata": {},
   "outputs": [],
   "source": [
    "# Import plot libraries\n",
    "import matplotlib.pyplot as plt"
   ]
  },
  {
   "cell_type": "markdown",
   "metadata": {},
   "source": [
    "## 0. Load words from Dictionary of the Spanish language"
   ]
  },
  {
   "cell_type": "code",
   "execution_count": 3,
   "metadata": {},
   "outputs": [],
   "source": [
    "# Util function - Read a plain text file\n",
    "def read_file_lines(file_path):\n",
    "    lines = []\n",
    "    \n",
    "    with codecs.open(file_path, encoding='utf-8') as f:\n",
    "        for line in f:\n",
    "            lines.append(line)\n",
    "    \n",
    "    return lines"
   ]
  },
  {
   "cell_type": "code",
   "execution_count": 4,
   "metadata": {},
   "outputs": [],
   "source": [
    "# Util function - Data quality\n",
    "def apply_dq_word(word):\n",
    "    new_word = word.replace('\\n', '')\n",
    "    \n",
    "    # Get first token\n",
    "    if ',' in new_word:\n",
    "        new_word = new_word.split(',')[0]\n",
    "    \n",
    "    # Remove extra whitespaces\n",
    "    new_word = new_word.strip()\n",
    "    \n",
    "    # Remove digits\n",
    "    while re.search(\"\\d\", new_word):\n",
    "        new_word = new_word[0:len(new_word)-1]\n",
    "        \n",
    "    return new_word"
   ]
  },
  {
   "cell_type": "code",
   "execution_count": 5,
   "metadata": {},
   "outputs": [],
   "source": [
    "# Util function - Plot column chart\n",
    "def plot_col_chart(df, figsize, x_var, y_var, title, color='green', legend=None, x_label=None):\n",
    "    fig, ax = plt.subplots()\n",
    "    df.plot.bar(ax=ax, x=x_var, y=y_var, color=color, alpha=0.75, figsize=figsize)\n",
    "    if legend:\n",
    "        ax.legend(legend)\n",
    "    else:\n",
    "        ax.get_legend().remove()\n",
    "    if x_label:\n",
    "        x = np.arange(len(x_label))\n",
    "        plt.xticks(x, x_label, rotation=0)\n",
    "    else:\n",
    "        plt.xticks(rotation=0)\n",
    "    plt.title(title, fontsize=16)\n",
    "    plt.xlabel(x_var.capitalize())\n",
    "    plt.ylabel(y_var.capitalize())\n",
    "    plt.show()"
   ]
  },
  {
   "cell_type": "code",
   "execution_count": 6,
   "metadata": {},
   "outputs": [
    {
     "data": {
      "text/plain": [
       "27"
      ]
     },
     "execution_count": 6,
     "metadata": {},
     "output_type": "execute_result"
    }
   ],
   "source": [
    "# Range of files\n",
    "letter_list = list(map(chr, range(97, 123)))\n",
    "letter_list.append('ñ')\n",
    "len(letter_list)"
   ]
  },
  {
   "cell_type": "markdown",
   "metadata": {},
   "source": [
    "## 1. Approximate number of words in the DSL"
   ]
  },
  {
   "cell_type": "code",
   "execution_count": 7,
   "metadata": {},
   "outputs": [
    {
     "name": "stdout",
     "output_type": "stream",
     "text": [
      "Total of different words: 88190\n"
     ]
    }
   ],
   "source": [
    "# Read words by letter [a-z]\n",
    "word_dict = Counter()\n",
    "file_path = '../data/dics/'\n",
    "\n",
    "for letter in letter_list:\n",
    "    filename = file_path + letter + '.txt'\n",
    "    word_list = read_file_lines(filename)\n",
    "    \n",
    "    for word in word_list:\n",
    "        word = apply_dq_word(word)\n",
    "        word_dict[word] += 1\n",
    "\n",
    "# Show results\n",
    "n_words = len(word_dict)\n",
    "print('Total of different words: %d' % n_words)"
   ]
  },
  {
   "cell_type": "markdown",
   "metadata": {},
   "source": [
    "## 2. Number of words with acute accent in Spanish language"
   ]
  },
  {
   "cell_type": "code",
   "execution_count": 8,
   "metadata": {},
   "outputs": [
    {
     "name": "stdout",
     "output_type": "stream",
     "text": [
      "Total words with acute accent: 16334 (18.52 %)\n"
     ]
    }
   ],
   "source": [
    "# Counting words with acute accent\n",
    "count = 0\n",
    "regexp = re.compile('[áéíóúÁÉÍÓÚ]')\n",
    "\n",
    "for word in word_dict.keys():\n",
    "    if regexp.search(word):\n",
    "        count += 1\n",
    "\n",
    "# Show results\n",
    "perc_words = 100.0 * count / n_words\n",
    "print('Total words with acute accent: %d (%0.2f %s)' % (count, perc_words, '%'))"
   ]
  },
  {
   "cell_type": "markdown",
   "metadata": {},
   "source": [
    "## 3. Frequency of words per size"
   ]
  },
  {
   "cell_type": "code",
   "execution_count": 9,
   "metadata": {},
   "outputs": [],
   "source": [
    "# Processing\n",
    "word_size = Counter()\n",
    "\n",
    "for word in word_dict.keys():\n",
    "    size = len(word)\n",
    "    word_size[size] += 1"
   ]
  },
  {
   "cell_type": "code",
   "execution_count": 10,
   "metadata": {},
   "outputs": [
    {
     "data": {
      "text/html": [
       "<div>\n",
       "<style scoped>\n",
       "    .dataframe tbody tr th:only-of-type {\n",
       "        vertical-align: middle;\n",
       "    }\n",
       "\n",
       "    .dataframe tbody tr th {\n",
       "        vertical-align: top;\n",
       "    }\n",
       "\n",
       "    .dataframe thead th {\n",
       "        text-align: right;\n",
       "    }\n",
       "</style>\n",
       "<table border=\"1\" class=\"dataframe\">\n",
       "  <thead>\n",
       "    <tr style=\"text-align: right;\">\n",
       "      <th></th>\n",
       "      <th>size</th>\n",
       "      <th>frequency</th>\n",
       "      <th>perc</th>\n",
       "    </tr>\n",
       "  </thead>\n",
       "  <tbody>\n",
       "    <tr>\n",
       "      <th>18</th>\n",
       "      <td>1</td>\n",
       "      <td>27</td>\n",
       "      <td>0.030616</td>\n",
       "    </tr>\n",
       "    <tr>\n",
       "      <th>16</th>\n",
       "      <td>2</td>\n",
       "      <td>105</td>\n",
       "      <td>0.119061</td>\n",
       "    </tr>\n",
       "    <tr>\n",
       "      <th>13</th>\n",
       "      <td>3</td>\n",
       "      <td>466</td>\n",
       "      <td>0.528405</td>\n",
       "    </tr>\n",
       "    <tr>\n",
       "      <th>9</th>\n",
       "      <td>4</td>\n",
       "      <td>2102</td>\n",
       "      <td>2.383490</td>\n",
       "    </tr>\n",
       "    <tr>\n",
       "      <th>6</th>\n",
       "      <td>5</td>\n",
       "      <td>5323</td>\n",
       "      <td>6.035832</td>\n",
       "    </tr>\n",
       "    <tr>\n",
       "      <th>4</th>\n",
       "      <td>6</td>\n",
       "      <td>9097</td>\n",
       "      <td>10.315228</td>\n",
       "    </tr>\n",
       "    <tr>\n",
       "      <th>2</th>\n",
       "      <td>7</td>\n",
       "      <td>12569</td>\n",
       "      <td>14.252183</td>\n",
       "    </tr>\n",
       "    <tr>\n",
       "      <th>0</th>\n",
       "      <td>8</td>\n",
       "      <td>14129</td>\n",
       "      <td>16.021091</td>\n",
       "    </tr>\n",
       "    <tr>\n",
       "      <th>1</th>\n",
       "      <td>9</td>\n",
       "      <td>13486</td>\n",
       "      <td>15.291983</td>\n",
       "    </tr>\n",
       "    <tr>\n",
       "      <th>3</th>\n",
       "      <td>10</td>\n",
       "      <td>10983</td>\n",
       "      <td>12.453793</td>\n",
       "    </tr>\n",
       "    <tr>\n",
       "      <th>5</th>\n",
       "      <td>11</td>\n",
       "      <td>7777</td>\n",
       "      <td>8.818460</td>\n",
       "    </tr>\n",
       "    <tr>\n",
       "      <th>7</th>\n",
       "      <td>12</td>\n",
       "      <td>4990</td>\n",
       "      <td>5.658238</td>\n",
       "    </tr>\n",
       "    <tr>\n",
       "      <th>8</th>\n",
       "      <td>13</td>\n",
       "      <td>3165</td>\n",
       "      <td>3.588842</td>\n",
       "    </tr>\n",
       "    <tr>\n",
       "      <th>10</th>\n",
       "      <td>14</td>\n",
       "      <td>1865</td>\n",
       "      <td>2.114752</td>\n",
       "    </tr>\n",
       "    <tr>\n",
       "      <th>11</th>\n",
       "      <td>15</td>\n",
       "      <td>1082</td>\n",
       "      <td>1.226896</td>\n",
       "    </tr>\n",
       "    <tr>\n",
       "      <th>12</th>\n",
       "      <td>16</td>\n",
       "      <td>551</td>\n",
       "      <td>0.624787</td>\n",
       "    </tr>\n",
       "    <tr>\n",
       "      <th>14</th>\n",
       "      <td>17</td>\n",
       "      <td>254</td>\n",
       "      <td>0.288015</td>\n",
       "    </tr>\n",
       "    <tr>\n",
       "      <th>15</th>\n",
       "      <td>18</td>\n",
       "      <td>136</td>\n",
       "      <td>0.154212</td>\n",
       "    </tr>\n",
       "    <tr>\n",
       "      <th>17</th>\n",
       "      <td>19</td>\n",
       "      <td>46</td>\n",
       "      <td>0.052160</td>\n",
       "    </tr>\n",
       "    <tr>\n",
       "      <th>19</th>\n",
       "      <td>20</td>\n",
       "      <td>22</td>\n",
       "      <td>0.024946</td>\n",
       "    </tr>\n",
       "    <tr>\n",
       "      <th>20</th>\n",
       "      <td>21</td>\n",
       "      <td>8</td>\n",
       "      <td>0.009071</td>\n",
       "    </tr>\n",
       "    <tr>\n",
       "      <th>21</th>\n",
       "      <td>22</td>\n",
       "      <td>4</td>\n",
       "      <td>0.004536</td>\n",
       "    </tr>\n",
       "    <tr>\n",
       "      <th>24</th>\n",
       "      <td>23</td>\n",
       "      <td>1</td>\n",
       "      <td>0.001134</td>\n",
       "    </tr>\n",
       "    <tr>\n",
       "      <th>23</th>\n",
       "      <td>24</td>\n",
       "      <td>1</td>\n",
       "      <td>0.001134</td>\n",
       "    </tr>\n",
       "    <tr>\n",
       "      <th>22</th>\n",
       "      <td>26</td>\n",
       "      <td>1</td>\n",
       "      <td>0.001134</td>\n",
       "    </tr>\n",
       "  </tbody>\n",
       "</table>\n",
       "</div>"
      ],
      "text/plain": [
       "    size  frequency       perc\n",
       "18     1         27   0.030616\n",
       "16     2        105   0.119061\n",
       "13     3        466   0.528405\n",
       "9      4       2102   2.383490\n",
       "6      5       5323   6.035832\n",
       "4      6       9097  10.315228\n",
       "2      7      12569  14.252183\n",
       "0      8      14129  16.021091\n",
       "1      9      13486  15.291983\n",
       "3     10      10983  12.453793\n",
       "5     11       7777   8.818460\n",
       "7     12       4990   5.658238\n",
       "8     13       3165   3.588842\n",
       "10    14       1865   2.114752\n",
       "11    15       1082   1.226896\n",
       "12    16        551   0.624787\n",
       "14    17        254   0.288015\n",
       "15    18        136   0.154212\n",
       "17    19         46   0.052160\n",
       "19    20         22   0.024946\n",
       "20    21          8   0.009071\n",
       "21    22          4   0.004536\n",
       "24    23          1   0.001134\n",
       "23    24          1   0.001134\n",
       "22    26          1   0.001134"
      ]
     },
     "execution_count": 10,
     "metadata": {},
     "output_type": "execute_result"
    }
   ],
   "source": [
    "# Cooking dataframe\n",
    "df = pd.DataFrame.from_records(word_size.most_common(), columns = ['size', 'frequency']).sort_values(by=['size'])\n",
    "df['perc'] = 100.0 * df['frequency'] / n_words\n",
    "df"
   ]
  },
  {
   "cell_type": "code",
   "execution_count": 11,
   "metadata": {},
   "outputs": [
    {
     "data": {
      "image/png": "[encoded data removed]",
      "text/plain": [
       "<Figure size 864x432 with 1 Axes>"
      ]
     },
     "metadata": {
      "needs_background": "light"
     },
     "output_type": "display_data"
    }
   ],
   "source": [
    "# Plot creation of followers account\n",
    "figsize = (12, 6)\n",
    "x_var = 'size'\n",
    "y_var = 'frequency'\n",
    "title = 'Frequency of words per size'\n",
    "plot_col_chart(df, figsize, x_var, y_var, title)"
   ]
  },
  {
   "cell_type": "markdown",
   "metadata": {},
   "source": [
    "## 4. Top 15 bigger words"
   ]
  },
  {
   "cell_type": "code",
   "execution_count": 12,
   "metadata": {},
   "outputs": [
    {
     "data": {
      "text/plain": [
       "[('contencioso-administrativo', 26),\n",
       " ('contradictio in terminis', 24),\n",
       " ('electroencefalografista', 23),\n",
       " ('anticonstitucionalidad', 22),\n",
       " ('electroencefalográfico', 22),\n",
       " ('esternocleidomastoideo', 22),\n",
       " ('in partibus infidelium', 22),\n",
       " ('antinorteamericanismo', 21),\n",
       " ('constitucionalización', 21),\n",
       " ('contrarrevolucionario', 21),\n",
       " ('corresponsabilización', 21),\n",
       " ('electroencefalografía', 21),\n",
       " ('interdisciplinariedad', 21),\n",
       " ('otorrinolaringológico', 21),\n",
       " ('preterintencionalidad', 21)]"
      ]
     },
     "execution_count": 12,
     "metadata": {},
     "output_type": "execute_result"
    }
   ],
   "source": [
    "# Processing\n",
    "top_size = Counter()\n",
    "threshold = 21\n",
    "\n",
    "for word in word_dict.keys():\n",
    "    size = len(word)\n",
    "    if size >= threshold:\n",
    "        top_size[word] = size\n",
    "\n",
    "# Top 15 bigger words\n",
    "top_size.most_common()"
   ]
  },
  {
   "cell_type": "markdown",
   "metadata": {},
   "source": [
    "## 5. Letter frequency in DSL words"
   ]
  },
  {
   "cell_type": "code",
   "execution_count": 13,
   "metadata": {},
   "outputs": [
    {
     "data": {
      "text/plain": [
       "769596"
      ]
     },
     "execution_count": 13,
     "metadata": {},
     "output_type": "execute_result"
    }
   ],
   "source": [
    "# Processing\n",
    "letter_freq = Counter()\n",
    "\n",
    "for word in word_dict.keys():\n",
    "    word = word.lower()\n",
    "    for l in word:\n",
    "        letter_freq[l] += 1\n",
    "\n",
    "n_total = sum(letter_freq.values())\n",
    "n_total"
   ]
  },
  {
   "cell_type": "code",
   "execution_count": 14,
   "metadata": {},
   "outputs": [
    {
     "data": {
      "text/html": [
       "<div>\n",
       "<style scoped>\n",
       "    .dataframe tbody tr th:only-of-type {\n",
       "        vertical-align: middle;\n",
       "    }\n",
       "\n",
       "    .dataframe tbody tr th {\n",
       "        vertical-align: top;\n",
       "    }\n",
       "\n",
       "    .dataframe thead th {\n",
       "        text-align: right;\n",
       "    }\n",
       "</style>\n",
       "<table border=\"1\" class=\"dataframe\">\n",
       "  <thead>\n",
       "    <tr style=\"text-align: right;\">\n",
       "      <th></th>\n",
       "      <th>letter</th>\n",
       "      <th>frequency</th>\n",
       "      <th>perc</th>\n",
       "    </tr>\n",
       "  </thead>\n",
       "  <tbody>\n",
       "    <tr>\n",
       "      <th>31</th>\n",
       "      <td></td>\n",
       "      <td>316</td>\n",
       "      <td>0.041061</td>\n",
       "    </tr>\n",
       "    <tr>\n",
       "      <th>29</th>\n",
       "      <td>-</td>\n",
       "      <td>602</td>\n",
       "      <td>0.078223</td>\n",
       "    </tr>\n",
       "    <tr>\n",
       "      <th>0</th>\n",
       "      <td>a</td>\n",
       "      <td>107146</td>\n",
       "      <td>13.922370</td>\n",
       "    </tr>\n",
       "    <tr>\n",
       "      <th>14</th>\n",
       "      <td>b</td>\n",
       "      <td>14301</td>\n",
       "      <td>1.858248</td>\n",
       "    </tr>\n",
       "    <tr>\n",
       "      <th>6</th>\n",
       "      <td>c</td>\n",
       "      <td>42924</td>\n",
       "      <td>5.577472</td>\n",
       "    </tr>\n",
       "    <tr>\n",
       "      <th>10</th>\n",
       "      <td>d</td>\n",
       "      <td>28937</td>\n",
       "      <td>3.760025</td>\n",
       "    </tr>\n",
       "    <tr>\n",
       "      <th>1</th>\n",
       "      <td>e</td>\n",
       "      <td>72597</td>\n",
       "      <td>9.433131</td>\n",
       "    </tr>\n",
       "    <tr>\n",
       "      <th>16</th>\n",
       "      <td>f</td>\n",
       "      <td>8321</td>\n",
       "      <td>1.081217</td>\n",
       "    </tr>\n",
       "    <tr>\n",
       "      <th>15</th>\n",
       "      <td>g</td>\n",
       "      <td>13338</td>\n",
       "      <td>1.733117</td>\n",
       "    </tr>\n",
       "    <tr>\n",
       "      <th>17</th>\n",
       "      <td>h</td>\n",
       "      <td>8207</td>\n",
       "      <td>1.066404</td>\n",
       "    </tr>\n",
       "    <tr>\n",
       "      <th>4</th>\n",
       "      <td>i</td>\n",
       "      <td>61657</td>\n",
       "      <td>8.011606</td>\n",
       "    </tr>\n",
       "    <tr>\n",
       "      <th>22</th>\n",
       "      <td>j</td>\n",
       "      <td>4849</td>\n",
       "      <td>0.630071</td>\n",
       "    </tr>\n",
       "    <tr>\n",
       "      <th>32</th>\n",
       "      <td>k</td>\n",
       "      <td>272</td>\n",
       "      <td>0.035343</td>\n",
       "    </tr>\n",
       "    <tr>\n",
       "      <th>8</th>\n",
       "      <td>l</td>\n",
       "      <td>37564</td>\n",
       "      <td>4.881003</td>\n",
       "    </tr>\n",
       "    <tr>\n",
       "      <th>11</th>\n",
       "      <td>m</td>\n",
       "      <td>24639</td>\n",
       "      <td>3.201550</td>\n",
       "    </tr>\n",
       "    <tr>\n",
       "      <th>5</th>\n",
       "      <td>n</td>\n",
       "      <td>47804</td>\n",
       "      <td>6.211571</td>\n",
       "    </tr>\n",
       "    <tr>\n",
       "      <th>3</th>\n",
       "      <td>o</td>\n",
       "      <td>69955</td>\n",
       "      <td>9.089834</td>\n",
       "    </tr>\n",
       "    <tr>\n",
       "      <th>13</th>\n",
       "      <td>p</td>\n",
       "      <td>19032</td>\n",
       "      <td>2.472986</td>\n",
       "    </tr>\n",
       "    <tr>\n",
       "      <th>23</th>\n",
       "      <td>q</td>\n",
       "      <td>3201</td>\n",
       "      <td>0.415933</td>\n",
       "    </tr>\n",
       "    <tr>\n",
       "      <th>2</th>\n",
       "      <td>r</td>\n",
       "      <td>70502</td>\n",
       "      <td>9.160910</td>\n",
       "    </tr>\n",
       "    <tr>\n",
       "      <th>9</th>\n",
       "      <td>s</td>\n",
       "      <td>32322</td>\n",
       "      <td>4.199866</td>\n",
       "    </tr>\n",
       "    <tr>\n",
       "      <th>7</th>\n",
       "      <td>t</td>\n",
       "      <td>41887</td>\n",
       "      <td>5.442726</td>\n",
       "    </tr>\n",
       "    <tr>\n",
       "      <th>12</th>\n",
       "      <td>u</td>\n",
       "      <td>24321</td>\n",
       "      <td>3.160230</td>\n",
       "    </tr>\n",
       "    <tr>\n",
       "      <th>18</th>\n",
       "      <td>v</td>\n",
       "      <td>7141</td>\n",
       "      <td>0.927889</td>\n",
       "    </tr>\n",
       "    <tr>\n",
       "      <th>34</th>\n",
       "      <td>w</td>\n",
       "      <td>66</td>\n",
       "      <td>0.008576</td>\n",
       "    </tr>\n",
       "    <tr>\n",
       "      <th>28</th>\n",
       "      <td>x</td>\n",
       "      <td>1350</td>\n",
       "      <td>0.175417</td>\n",
       "    </tr>\n",
       "    <tr>\n",
       "      <th>27</th>\n",
       "      <td>y</td>\n",
       "      <td>1430</td>\n",
       "      <td>0.185812</td>\n",
       "    </tr>\n",
       "    <tr>\n",
       "      <th>20</th>\n",
       "      <td>z</td>\n",
       "      <td>6319</td>\n",
       "      <td>0.821080</td>\n",
       "    </tr>\n",
       "    <tr>\n",
       "      <th>24</th>\n",
       "      <td>á</td>\n",
       "      <td>2514</td>\n",
       "      <td>0.326665</td>\n",
       "    </tr>\n",
       "    <tr>\n",
       "      <th>36</th>\n",
       "      <td>è</td>\n",
       "      <td>1</td>\n",
       "      <td>0.000130</td>\n",
       "    </tr>\n",
       "    <tr>\n",
       "      <th>26</th>\n",
       "      <td>é</td>\n",
       "      <td>1748</td>\n",
       "      <td>0.227132</td>\n",
       "    </tr>\n",
       "    <tr>\n",
       "      <th>21</th>\n",
       "      <td>í</td>\n",
       "      <td>4916</td>\n",
       "      <td>0.638777</td>\n",
       "    </tr>\n",
       "    <tr>\n",
       "      <th>35</th>\n",
       "      <td>î</td>\n",
       "      <td>2</td>\n",
       "      <td>0.000260</td>\n",
       "    </tr>\n",
       "    <tr>\n",
       "      <th>25</th>\n",
       "      <td>ñ</td>\n",
       "      <td>2028</td>\n",
       "      <td>0.263515</td>\n",
       "    </tr>\n",
       "    <tr>\n",
       "      <th>19</th>\n",
       "      <td>ó</td>\n",
       "      <td>6602</td>\n",
       "      <td>0.857853</td>\n",
       "    </tr>\n",
       "    <tr>\n",
       "      <th>30</th>\n",
       "      <td>ú</td>\n",
       "      <td>558</td>\n",
       "      <td>0.072506</td>\n",
       "    </tr>\n",
       "    <tr>\n",
       "      <th>33</th>\n",
       "      <td>ü</td>\n",
       "      <td>227</td>\n",
       "      <td>0.029496</td>\n",
       "    </tr>\n",
       "  </tbody>\n",
       "</table>\n",
       "</div>"
      ],
      "text/plain": [
       "   letter  frequency       perc\n",
       "31               316   0.041061\n",
       "29      -        602   0.078223\n",
       "0       a     107146  13.922370\n",
       "14      b      14301   1.858248\n",
       "6       c      42924   5.577472\n",
       "10      d      28937   3.760025\n",
       "1       e      72597   9.433131\n",
       "16      f       8321   1.081217\n",
       "15      g      13338   1.733117\n",
       "17      h       8207   1.066404\n",
       "4       i      61657   8.011606\n",
       "22      j       4849   0.630071\n",
       "32      k        272   0.035343\n",
       "8       l      37564   4.881003\n",
       "11      m      24639   3.201550\n",
       "5       n      47804   6.211571\n",
       "3       o      69955   9.089834\n",
       "13      p      19032   2.472986\n",
       "23      q       3201   0.415933\n",
       "2       r      70502   9.160910\n",
       "9       s      32322   4.199866\n",
       "7       t      41887   5.442726\n",
       "12      u      24321   3.160230\n",
       "18      v       7141   0.927889\n",
       "34      w         66   0.008576\n",
       "28      x       1350   0.175417\n",
       "27      y       1430   0.185812\n",
       "20      z       6319   0.821080\n",
       "24      á       2514   0.326665\n",
       "36      è          1   0.000130\n",
       "26      é       1748   0.227132\n",
       "21      í       4916   0.638777\n",
       "35      î          2   0.000260\n",
       "25      ñ       2028   0.263515\n",
       "19      ó       6602   0.857853\n",
       "30      ú        558   0.072506\n",
       "33      ü        227   0.029496"
      ]
     },
     "execution_count": 14,
     "metadata": {},
     "output_type": "execute_result"
    }
   ],
   "source": [
    "# Cooking dataframe\n",
    "df = pd.DataFrame.from_records(letter_freq.most_common(), columns = ['letter', 'frequency']).sort_values(by=['letter'])\n",
    "df['perc'] = 100.0 * df['frequency'] / n_total\n",
    "df"
   ]
  },
  {
   "cell_type": "code",
   "execution_count": 15,
   "metadata": {},
   "outputs": [
    {
     "data": {
      "image/png": "[encoded data removed]",
      "text/plain": [
       "<Figure size 864x432 with 1 Axes>"
      ]
     },
     "metadata": {
      "needs_background": "light"
     },
     "output_type": "display_data"
    }
   ],
   "source": [
    "# Plot creation of followers account\n",
    "figsize = (12, 6)\n",
    "x_var = 'letter'\n",
    "y_var = 'frequency'\n",
    "title = 'Letter frequency in DSL words'\n",
    "plot_col_chart(df, figsize, x_var, y_var, title)"
   ]
  },
  {
   "cell_type": "code",
   "execution_count": 16,
   "metadata": {},
   "outputs": [
    {
     "data": {
      "image/png": "[encoded data removed]",
      "text/plain": [
       "<Figure size 864x432 with 1 Axes>"
      ]
     },
     "metadata": {
      "needs_background": "light"
     },
     "output_type": "display_data"
    }
   ],
   "source": [
    "# Plot creation of followers account\n",
    "figsize = (12, 6)\n",
    "x_var = 'letter'\n",
    "y_var = 'perc'\n",
    "title = 'Letter frequency in DSL words (Sorted)'\n",
    "plot_col_chart(df.sort_values(by='perc', ascending=False), figsize, x_var, y_var, title)"
   ]
  },
  {
   "cell_type": "markdown",
   "metadata": {},
   "source": [
    "## 6. Vowel and consonant ratio"
   ]
  },
  {
   "cell_type": "code",
   "execution_count": 17,
   "metadata": {},
   "outputs": [],
   "source": [
    "vowel_list = 'aeiouáéíóúèîü'\n",
    "vowel_total = 0\n",
    "consonant_total = 0"
   ]
  },
  {
   "cell_type": "code",
   "execution_count": 18,
   "metadata": {},
   "outputs": [],
   "source": [
    "for ix, row in df.iterrows():\n",
    "    letter = str(row['letter'])\n",
    "    freq = int(row['frequency'])\n",
    "    \n",
    "    if letter in vowel_list:\n",
    "        vowel_total += freq\n",
    "    elif letter.isalpha():\n",
    "        consonant_total += freq\n",
    "\n",
    "letter_total = vowel_total + consonant_total"
   ]
  },
  {
   "cell_type": "code",
   "execution_count": 19,
   "metadata": {},
   "outputs": [
    {
     "data": {
      "text/html": [
       "<div>\n",
       "<style scoped>\n",
       "    .dataframe tbody tr th:only-of-type {\n",
       "        vertical-align: middle;\n",
       "    }\n",
       "\n",
       "    .dataframe tbody tr th {\n",
       "        vertical-align: top;\n",
       "    }\n",
       "\n",
       "    .dataframe thead th {\n",
       "        text-align: right;\n",
       "    }\n",
       "</style>\n",
       "<table border=\"1\" class=\"dataframe\">\n",
       "  <thead>\n",
       "    <tr style=\"text-align: right;\">\n",
       "      <th></th>\n",
       "      <th>type</th>\n",
       "      <th>frequency</th>\n",
       "      <th>perc</th>\n",
       "    </tr>\n",
       "  </thead>\n",
       "  <tbody>\n",
       "    <tr>\n",
       "      <th>0</th>\n",
       "      <td>vowels</td>\n",
       "      <td>352244</td>\n",
       "      <td>45.82465</td>\n",
       "    </tr>\n",
       "    <tr>\n",
       "      <th>1</th>\n",
       "      <td>consonant</td>\n",
       "      <td>416434</td>\n",
       "      <td>54.17535</td>\n",
       "    </tr>\n",
       "  </tbody>\n",
       "</table>\n",
       "</div>"
      ],
      "text/plain": [
       "        type  frequency      perc\n",
       "0     vowels     352244  45.82465\n",
       "1  consonant     416434  54.17535"
      ]
     },
     "execution_count": 19,
     "metadata": {},
     "output_type": "execute_result"
    }
   ],
   "source": [
    "# initialize list of lists \n",
    "data = [['vowels', vowel_total, (100.0 * vowel_total / letter_total)], \n",
    "        ['consonant', consonant_total, (100.0 * consonant_total / letter_total)]]\n",
    "  \n",
    "# Create the pandas DataFrame \n",
    "df = pd.DataFrame(data, columns = ['type', 'frequency', 'perc'])\n",
    "df"
   ]
  },
  {
   "cell_type": "code",
   "execution_count": 20,
   "metadata": {},
   "outputs": [
    {
     "data": {
      "image/png": "[encoded data removed]",
      "text/plain": [
       "<Figure size 432x432 with 1 Axes>"
      ]
     },
     "metadata": {
      "needs_background": "light"
     },
     "output_type": "display_data"
    }
   ],
   "source": [
    "# Plot creation of followers account\n",
    "figsize = (6, 6)\n",
    "x_var = 'type'\n",
    "y_var = 'perc'\n",
    "title = 'Vowel and consonant ratio'\n",
    "plot_col_chart(df, figsize, x_var, y_var, title)"
   ]
  },
  {
   "cell_type": "markdown",
   "metadata": {},
   "source": [
    "## 7. Frequency of words per letter of the alphabet"
   ]
  },
  {
   "cell_type": "code",
   "execution_count": 21,
   "metadata": {},
   "outputs": [],
   "source": [
    "norm_dict = {'á':'a', 'é':'e', 'í':'i', 'ó':'o', 'ú':'u'}"
   ]
  },
  {
   "cell_type": "code",
   "execution_count": 22,
   "metadata": {},
   "outputs": [],
   "source": [
    "first_letter_freq = Counter()\n",
    "for word in word_dict.keys():\n",
    "    first_letter = word[0].lower()\n",
    "    \n",
    "    if first_letter.isalpha():\n",
    "        if first_letter in norm_dict.keys():\n",
    "            first_letter = norm_dict[first_letter]\n",
    "        first_letter_freq[first_letter] += 1"
   ]
  },
  {
   "cell_type": "code",
   "execution_count": 23,
   "metadata": {},
   "outputs": [
    {
     "data": {
      "text/html": [
       "<div>\n",
       "<style scoped>\n",
       "    .dataframe tbody tr th:only-of-type {\n",
       "        vertical-align: middle;\n",
       "    }\n",
       "\n",
       "    .dataframe tbody tr th {\n",
       "        vertical-align: top;\n",
       "    }\n",
       "\n",
       "    .dataframe thead th {\n",
       "        text-align: right;\n",
       "    }\n",
       "</style>\n",
       "<table border=\"1\" class=\"dataframe\">\n",
       "  <thead>\n",
       "    <tr style=\"text-align: right;\">\n",
       "      <th></th>\n",
       "      <th>letter</th>\n",
       "      <th>frequency</th>\n",
       "      <th>perc</th>\n",
       "    </tr>\n",
       "  </thead>\n",
       "  <tbody>\n",
       "    <tr>\n",
       "      <th>1</th>\n",
       "      <td>a</td>\n",
       "      <td>10747</td>\n",
       "      <td>12.186189</td>\n",
       "    </tr>\n",
       "    <tr>\n",
       "      <th>9</th>\n",
       "      <td>b</td>\n",
       "      <td>3688</td>\n",
       "      <td>4.181880</td>\n",
       "    </tr>\n",
       "    <tr>\n",
       "      <th>0</th>\n",
       "      <td>c</td>\n",
       "      <td>12194</td>\n",
       "      <td>13.826965</td>\n",
       "    </tr>\n",
       "    <tr>\n",
       "      <th>4</th>\n",
       "      <td>d</td>\n",
       "      <td>5776</td>\n",
       "      <td>6.549495</td>\n",
       "    </tr>\n",
       "    <tr>\n",
       "      <th>3</th>\n",
       "      <td>e</td>\n",
       "      <td>7124</td>\n",
       "      <td>8.078013</td>\n",
       "    </tr>\n",
       "    <tr>\n",
       "      <th>11</th>\n",
       "      <td>f</td>\n",
       "      <td>2881</td>\n",
       "      <td>3.266810</td>\n",
       "    </tr>\n",
       "    <tr>\n",
       "      <th>12</th>\n",
       "      <td>g</td>\n",
       "      <td>2873</td>\n",
       "      <td>3.257739</td>\n",
       "    </tr>\n",
       "    <tr>\n",
       "      <th>14</th>\n",
       "      <td>h</td>\n",
       "      <td>2172</td>\n",
       "      <td>2.462864</td>\n",
       "    </tr>\n",
       "    <tr>\n",
       "      <th>10</th>\n",
       "      <td>i</td>\n",
       "      <td>3211</td>\n",
       "      <td>3.641002</td>\n",
       "    </tr>\n",
       "    <tr>\n",
       "      <th>18</th>\n",
       "      <td>j</td>\n",
       "      <td>950</td>\n",
       "      <td>1.077220</td>\n",
       "    </tr>\n",
       "    <tr>\n",
       "      <th>23</th>\n",
       "      <td>k</td>\n",
       "      <td>116</td>\n",
       "      <td>0.131534</td>\n",
       "    </tr>\n",
       "    <tr>\n",
       "      <th>13</th>\n",
       "      <td>l</td>\n",
       "      <td>2419</td>\n",
       "      <td>2.742941</td>\n",
       "    </tr>\n",
       "    <tr>\n",
       "      <th>5</th>\n",
       "      <td>m</td>\n",
       "      <td>5357</td>\n",
       "      <td>6.074385</td>\n",
       "    </tr>\n",
       "    <tr>\n",
       "      <th>17</th>\n",
       "      <td>n</td>\n",
       "      <td>1329</td>\n",
       "      <td>1.506974</td>\n",
       "    </tr>\n",
       "    <tr>\n",
       "      <th>16</th>\n",
       "      <td>o</td>\n",
       "      <td>1420</td>\n",
       "      <td>1.610160</td>\n",
       "    </tr>\n",
       "    <tr>\n",
       "      <th>2</th>\n",
       "      <td>p</td>\n",
       "      <td>7676</td>\n",
       "      <td>8.703935</td>\n",
       "    </tr>\n",
       "    <tr>\n",
       "      <th>20</th>\n",
       "      <td>q</td>\n",
       "      <td>509</td>\n",
       "      <td>0.577163</td>\n",
       "    </tr>\n",
       "    <tr>\n",
       "      <th>8</th>\n",
       "      <td>r</td>\n",
       "      <td>4469</td>\n",
       "      <td>5.067468</td>\n",
       "    </tr>\n",
       "    <tr>\n",
       "      <th>7</th>\n",
       "      <td>s</td>\n",
       "      <td>4593</td>\n",
       "      <td>5.208073</td>\n",
       "    </tr>\n",
       "    <tr>\n",
       "      <th>6</th>\n",
       "      <td>t</td>\n",
       "      <td>4779</td>\n",
       "      <td>5.418982</td>\n",
       "    </tr>\n",
       "    <tr>\n",
       "      <th>21</th>\n",
       "      <td>u</td>\n",
       "      <td>482</td>\n",
       "      <td>0.546547</td>\n",
       "    </tr>\n",
       "    <tr>\n",
       "      <th>15</th>\n",
       "      <td>v</td>\n",
       "      <td>1960</td>\n",
       "      <td>2.222474</td>\n",
       "    </tr>\n",
       "    <tr>\n",
       "      <th>26</th>\n",
       "      <td>w</td>\n",
       "      <td>28</td>\n",
       "      <td>0.031750</td>\n",
       "    </tr>\n",
       "    <tr>\n",
       "      <th>25</th>\n",
       "      <td>x</td>\n",
       "      <td>48</td>\n",
       "      <td>0.054428</td>\n",
       "    </tr>\n",
       "    <tr>\n",
       "      <th>22</th>\n",
       "      <td>y</td>\n",
       "      <td>259</td>\n",
       "      <td>0.293684</td>\n",
       "    </tr>\n",
       "    <tr>\n",
       "      <th>19</th>\n",
       "      <td>z</td>\n",
       "      <td>746</td>\n",
       "      <td>0.845901</td>\n",
       "    </tr>\n",
       "    <tr>\n",
       "      <th>24</th>\n",
       "      <td>ñ</td>\n",
       "      <td>82</td>\n",
       "      <td>0.092981</td>\n",
       "    </tr>\n",
       "  </tbody>\n",
       "</table>\n",
       "</div>"
      ],
      "text/plain": [
       "   letter  frequency       perc\n",
       "1       a      10747  12.186189\n",
       "9       b       3688   4.181880\n",
       "0       c      12194  13.826965\n",
       "4       d       5776   6.549495\n",
       "3       e       7124   8.078013\n",
       "11      f       2881   3.266810\n",
       "12      g       2873   3.257739\n",
       "14      h       2172   2.462864\n",
       "10      i       3211   3.641002\n",
       "18      j        950   1.077220\n",
       "23      k        116   0.131534\n",
       "13      l       2419   2.742941\n",
       "5       m       5357   6.074385\n",
       "17      n       1329   1.506974\n",
       "16      o       1420   1.610160\n",
       "2       p       7676   8.703935\n",
       "20      q        509   0.577163\n",
       "8       r       4469   5.067468\n",
       "7       s       4593   5.208073\n",
       "6       t       4779   5.418982\n",
       "21      u        482   0.546547\n",
       "15      v       1960   2.222474\n",
       "26      w         28   0.031750\n",
       "25      x         48   0.054428\n",
       "22      y        259   0.293684\n",
       "19      z        746   0.845901\n",
       "24      ñ         82   0.092981"
      ]
     },
     "execution_count": 23,
     "metadata": {},
     "output_type": "execute_result"
    }
   ],
   "source": [
    "# Cooking dataframe\n",
    "df = pd.DataFrame.from_records(first_letter_freq.most_common(), columns = ['letter', 'frequency']).sort_values(by=['letter'])\n",
    "df['perc'] = 100.0 * df['frequency'] / n_words\n",
    "df"
   ]
  },
  {
   "cell_type": "code",
   "execution_count": 24,
   "metadata": {},
   "outputs": [
    {
     "data": {
      "image/png": "[encoded data removed]",
      "text/plain": [
       "<Figure size 864x432 with 1 Axes>"
      ]
     },
     "metadata": {
      "needs_background": "light"
     },
     "output_type": "display_data"
    }
   ],
   "source": [
    "# Plot creation of followers account\n",
    "figsize = (12, 6)\n",
    "x_var = 'letter'\n",
    "y_var = 'frequency'\n",
    "title = 'Frequency of words per letter of the alphabet'\n",
    "plot_col_chart(df, figsize, x_var, y_var, title)"
   ]
  },
  {
   "cell_type": "code",
   "execution_count": 25,
   "metadata": {},
   "outputs": [
    {
     "data": {
      "image/png": "[encoded data removed]",
      "text/plain": [
       "<Figure size 864x432 with 1 Axes>"
      ]
     },
     "metadata": {
      "needs_background": "light"
     },
     "output_type": "display_data"
    }
   ],
   "source": [
    "# Plot creation of followers account\n",
    "figsize = (12, 6)\n",
    "x_var = 'letter'\n",
    "y_var = 'perc'\n",
    "title = 'Frequency of words per letter of the alphabet (Sorted)'\n",
    "plot_col_chart(df.sort_values(by='perc', ascending=False), figsize, x_var, y_var, title)"
   ]
  },
  {
   "cell_type": "markdown",
   "metadata": {},
   "source": [
    "---\n",
    "<a href=\"https://ansegura7.github.io/DSL_Analysis/\">« Home</a>"
   ]
  }
 ],
 "metadata": {
  "kernelspec": {
   "display_name": "Python 3",
   "language": "python",
   "name": "python3"
  },
  "language_info": {
   "codemirror_mode": {
    "name": "ipython",
    "version": 3
   },
   "file_extension": ".py",
   "mimetype": "text/x-python",
   "name": "python",
   "nbconvert_exporter": "python",
   "pygments_lexer": "ipython3",
   "version": "3.7.6"
  }
 },
 "nbformat": 4,
 "nbformat_minor": 4
}
